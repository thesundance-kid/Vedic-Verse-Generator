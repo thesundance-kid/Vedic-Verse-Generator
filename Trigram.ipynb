{
 "cells": [
  {
   "cell_type": "markdown",
   "metadata": {},
   "source": [
    "For Reference: My Trigram Implementation used on the list of names from the Karpathy lecture"
   ]
  },
  {
   "cell_type": "code",
   "execution_count": 2,
   "metadata": {},
   "outputs": [
    {
     "name": "stdout",
     "output_type": "stream",
     "text": [
      "['emma', 'olivia', 'ava', 'isabella', 'sophia']\n"
     ]
    }
   ],
   "source": [
    "import requests\n",
    "\n",
    "# URL of the raw names.txt file\n",
    "url = \"https://raw.githubusercontent.com/karpathy/makemore/master/names.txt\"\n",
    "\n",
    "# Make a request to get the file\n",
    "response = requests.get(url)\n",
    "\n",
    "# Ensure the request was successful\n",
    "if response.status_code == 200:\n",
    "    names = response.text.splitlines()\n",
    "    # Do something with the names, like printing the first 5\n",
    "    print(names[:5])\n",
    "else:\n",
    "    print(\"Failed to retrieve the file.\")"
   ]
  },
  {
   "cell_type": "code",
   "execution_count": 3,
   "metadata": {},
   "outputs": [
    {
     "data": {
      "text/plain": [
       "32033"
      ]
     },
     "execution_count": 3,
     "metadata": {},
     "output_type": "execute_result"
    }
   ],
   "source": [
    "len(names)"
   ]
  },
  {
   "cell_type": "code",
   "execution_count": 4,
   "metadata": {},
   "outputs": [
    {
     "name": "stdout",
     "output_type": "stream",
     "text": [
      "5686\n"
     ]
    }
   ],
   "source": [
    "\"\"\"\n",
    "Ex.\n",
    "name = emma\n",
    "e m m a\n",
    "len(name) = 4\n",
    "range(4) = 0 1 2 3\n",
    "\"ma.\" should be last trigram\n",
    "\"\"\"\n",
    "\n",
    "trigrams = {}\n",
    "for i in names: #confirmed no names with only one letter\n",
    "    for c in range(len(i) - 1): # loop over entire word except for last letter\n",
    "        trigram = (i[c], i[c+1], \".\") if c+2 == len(i) else (i[c], i[c+1], i[c+2])\n",
    "        trigrams[trigram] = trigrams.get(trigram, 0) + 1\n",
    "    \n",
    "\n",
    "print(len(trigrams))"
   ]
  },
  {
   "cell_type": "code",
   "execution_count": 5,
   "metadata": {},
   "outputs": [
    {
     "name": "stdout",
     "output_type": "stream",
     "text": [
      "Key: ('a', 'h', '.'), Value: 1714\n",
      "Key: ('n', 'a', '.'), Value: 1673\n",
      "Key: ('a', 'n', '.'), Value: 1509\n",
      "Key: ('o', 'n', '.'), Value: 1503\n",
      "Key: ('e', 'n', '.'), Value: 1217\n"
     ]
    }
   ],
   "source": [
    "t = sorted(trigrams.items(), key=lambda item: item[1], reverse=True)\n",
    "\n",
    "count = 0\n",
    "for key, value in t:  # Iterate over key-value pairs\n",
    "    if count < 5:  # Limit to the first 5\n",
    "        print(f\"Key: {key}, Value: {value}\")\n",
    "        count += 1\n",
    "    else:\n",
    "        break  # Stop after printing 5"
   ]
  },
  {
   "cell_type": "markdown",
   "metadata": {},
   "source": [
    "Create a 3D tensor to hold frequencies of all trigrams\n",
    "\n",
    "Include '.' as a start icon"
   ]
  },
  {
   "cell_type": "code",
   "execution_count": 6,
   "metadata": {},
   "outputs": [],
   "source": [
    "import torch\n",
    "\n",
    "N = torch.zeros((27, 27, 27), dtype = torch.int32)"
   ]
  },
  {
   "cell_type": "code",
   "execution_count": 7,
   "metadata": {},
   "outputs": [],
   "source": [
    "chars = sorted(list(set(''.join(names)))) #get all unique characters in names, without duplicates, and sort a to z\n",
    "stoi = {s:i+1 for i,s in enumerate(chars)} #dictionary where each key is a letter, and value is index, +1 makes a start at 1, so . takes 0\n",
    "stoi['.'] = 0\n",
    "itos = {i:s for s,i in stoi.items()} # flip key value pairs"
   ]
  },
  {
   "cell_type": "code",
   "execution_count": 8,
   "metadata": {},
   "outputs": [],
   "source": [
    "\"\"\"\"\n",
    "Populate 3D tensor with frequencies of trigrams\n",
    "\"\"\"\n",
    "\n",
    "for i in names: #confirmed no names with only one letter\n",
    "    chs = ['.'] + list(i) + ['.']\n",
    "    for c in range(len(chs) - 2): # loop over entire word except for last two letters\n",
    "        trigram = (chs[c], chs[c+1], chs[c+2])\n",
    "        stoi_trigram = tuple(stoi[char] for char in trigram)\n",
    "        N[stoi_trigram[0], stoi_trigram[1], stoi_trigram[2]] += 1"
   ]
  },
  {
   "cell_type": "code",
   "execution_count": 9,
   "metadata": {},
   "outputs": [
    {
     "data": {
      "text/plain": [
       "tensor(1714, dtype=torch.int32)"
      ]
     },
     "execution_count": 9,
     "metadata": {},
     "output_type": "execute_result"
    }
   ],
   "source": [
    "N[1, 8, 0] # check if it matches value from dictionary mapping, it does!"
   ]
  },
  {
   "cell_type": "markdown",
   "metadata": {},
   "source": [
    "Sampling From the Model"
   ]
  },
  {
   "cell_type": "code",
   "execution_count": 10,
   "metadata": {},
   "outputs": [
    {
     "data": {
      "text/plain": [
       "torch.Size([27, 27])"
      ]
     },
     "execution_count": 10,
     "metadata": {},
     "output_type": "execute_result"
    }
   ],
   "source": [
    "N[0].shape"
   ]
  },
  {
   "cell_type": "code",
   "execution_count": 11,
   "metadata": {},
   "outputs": [
    {
     "data": {
      "text/plain": [
       "tensor(1.)"
      ]
     },
     "execution_count": 11,
     "metadata": {},
     "output_type": "execute_result"
    }
   ],
   "source": [
    "p = N[0].float()\n",
    "p = p / p.sum()\n",
    "p.shape # p gives probability distribution of all possible starting bigrams\n",
    "p.sum()"
   ]
  },
  {
   "cell_type": "code",
   "execution_count": 12,
   "metadata": {},
   "outputs": [
    {
     "name": "stdout",
     "output_type": "stream",
     "text": [
      "Sampled index: 352 -> row: 13, col: 1\n",
      "m a\n"
     ]
    }
   ],
   "source": [
    "# Flatten the 2D matrix to 1D, because torch.multinomial expects a 1D prob dist\n",
    "p_flat = p.flatten()\n",
    "\n",
    "# Sample from the flattened 1D probability distribution\n",
    "g = torch.Generator().manual_seed(2147483647)\n",
    "index = torch.multinomial(p_flat, num_samples=1, replacement=True, generator=g).item()\n",
    "\n",
    "# Convert the flattened index back to 2D row and column indices\n",
    "row = index // p.size(1)  # Get the row index\n",
    "col = index % p.size(1)   # Get the column index\n",
    "\n",
    "print(f\"Sampled index: {index} -> row: {row}, col: {col}\")\n",
    "print(itos[row], itos[col])"
   ]
  },
  {
   "cell_type": "markdown",
   "metadata": {},
   "source": [
    "Get first 2 letters from probability dist. of all Starting bigrams (bigrams that follow \" . \")\n",
    "\n",
    "Then pick every succesive letter based on the preceeding bigram"
   ]
  },
  {
   "cell_type": "code",
   "execution_count": 13,
   "metadata": {},
   "outputs": [
    {
     "data": {
      "text/plain": [
       "tensor(1.)"
      ]
     },
     "execution_count": 13,
     "metadata": {},
     "output_type": "execute_result"
    }
   ],
   "source": [
    "#Create a probability distrubtion for every possible 3rd letter, for every possible preceding bigram\n",
    "#more efficient to create once and index into, then to generate again and again\n",
    "P = N.float()\n",
    "P = P/P.sum(2, keepdim= True) # 27x27x27 tensor divided by 27x27x1 tensor\n",
    "P.shape\n",
    "P[6,7].sum() #should be 1 for any combo if properly normalized"
   ]
  },
  {
   "cell_type": "code",
   "execution_count": 14,
   "metadata": {},
   "outputs": [
    {
     "name": "stdout",
     "output_type": "stream",
     "text": [
      "maimittain.\n",
      "rumtai.\n",
      "taside.\n",
      "annas.\n",
      "ridynne.\n",
      "bramah.\n",
      "rhalee.\n",
      "ameegariseriyen.\n",
      "zel.\n",
      "amave.\n",
      "caisa.\n",
      "khutsaoishri.\n",
      "que.\n",
      "smanah.\n",
      "joiriel.\n",
      "ez.\n",
      "anitayaamnef.\n",
      "ka.\n",
      "qwadi.\n",
      "khan.\n"
     ]
    }
   ],
   "source": [
    "g = torch.Generator().manual_seed(2147483647)\n",
    "\n",
    "for i in range(20):\n",
    "    #Get first bigram from prob dist. of most likely starting bigrams\n",
    "    p = N[0].float()\n",
    "    p = p / p.sum()\n",
    "    p_flat = p.flatten()\n",
    "\n",
    "    index = torch.multinomial(p_flat, num_samples=1, replacement=True, generator=g).item()\n",
    "\n",
    "    # Convert the flattened index back to 2D row and column indices\n",
    "    row = index // p.size(1)  # Get the row index\n",
    "    col = index % p.size(1)   # Get the column index\n",
    "    out = []\n",
    "    out.append(itos[row])\n",
    "    out.append(itos[col])\n",
    "\n",
    "    while True:\n",
    "        p = P[row, col]\n",
    "        ix = torch.multinomial(p, num_samples=1, replacement=True, generator=g).item()\n",
    "        out.append(itos[ix])\n",
    "        if ix == 0:\n",
    "            break\n",
    "        row = col\n",
    "        col = ix\n",
    "\n",
    "    print(''.join(out))"
   ]
  },
  {
   "cell_type": "markdown",
   "metadata": {},
   "source": [
    "Assess Log Likelihood of Model:"
   ]
  },
  {
   "cell_type": "code",
   "execution_count": 16,
   "metadata": {},
   "outputs": [
    {
     "name": "stdout",
     "output_type": "stream",
     "text": [
      "Average negative log likelihood of model = 2.0619611740112305\n"
     ]
    }
   ],
   "source": [
    "log_likelihood = 0.0\n",
    "n = 0\n",
    "\n",
    "for i in names: \n",
    "    chs = ['.'] + list(i) + ['.']\n",
    "    for c in range(len(chs) - 2): # loop over entire word except for last two letters\n",
    "        trigram = (chs[c], chs[c+1], chs[c+2])\n",
    "        stoi_trigram = tuple(stoi[char] for char in trigram)\n",
    "        prob = P[stoi_trigram[0], stoi_trigram[1], stoi_trigram[2]]\n",
    "        logprob = torch.log(prob)\n",
    "        log_likelihood += logprob\n",
    "        n += 1\n",
    "\n",
    "nll = -log_likelihood\n",
    "print(\"Average negative log likelihood of model =\", f'{nll/n}')\n",
    "\n",
    "#Average negative log likelihood of bigram model is 2.48"
   ]
  },
  {
   "cell_type": "markdown",
   "metadata": {},
   "source": [
    "Neural Network Approach to Trigram MakeMore"
   ]
  },
  {
   "cell_type": "code",
   "execution_count": null,
   "metadata": {},
   "outputs": [],
   "source": []
  }
 ],
 "metadata": {
  "kernelspec": {
   "display_name": "base",
   "language": "python",
   "name": "python3"
  },
  "language_info": {
   "codemirror_mode": {
    "name": "ipython",
    "version": 3
   },
   "file_extension": ".py",
   "mimetype": "text/x-python",
   "name": "python",
   "nbconvert_exporter": "python",
   "pygments_lexer": "ipython3",
   "version": "3.12.4"
  }
 },
 "nbformat": 4,
 "nbformat_minor": 2
}
